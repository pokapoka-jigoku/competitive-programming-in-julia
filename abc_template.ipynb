{
 "cells": [
  {
   "cell_type": "code",
   "execution_count": 1,
   "id": "juvenile-ethernet",
   "metadata": {},
   "outputs": [
    {
     "data": {
      "text/plain": [
       "Main.Problem"
      ]
     },
     "execution_count": 1,
     "metadata": {},
     "output_type": "execute_result"
    }
   ],
   "source": [
    "module Test\n",
    "struct Case\n",
    "    input::AbstractString\n",
    "    output\n",
    "end\n",
    "\n",
    "match(case::Case, value) = (case.output == value)\n",
    "match(case::Case) = value -> match(case, value)\n",
    "\n",
    "case01 = Case(\"12 12 14\", 38)\n",
    "case02 = Case(\"1 2 3\", 6)\n",
    "end\n",
    "\n",
    "module Util\n",
    "import ..Test\n",
    "\n",
    "struct Input\n",
    "    data::Union{Vector{AbstractString}, Nothing}\n",
    "end\n",
    "\n",
    "Input() = Input(nothing)\n",
    "Input(string::AbstractString) = Input(split(string, \"\\n\"))\n",
    "Input(case::Test.Case) = Input(case.input)\n",
    "    \n",
    "function Base.readline(input::Input)\n",
    "    if input.data === nothing\n",
    "        Base.readline()\n",
    "    else\n",
    "        popfirst!(input.data)\n",
    "    end\n",
    "end\n",
    "\n",
    "end\n",
    "\n",
    "module Problem\n",
    "import ..Util\n",
    "function solve(input::Util.Input)\n",
    "    xs = readline(input) |> split .|> x -> parse(Int, x)\n",
    "    sum(xs)\n",
    "end\n",
    "end"
   ]
  },
  {
   "cell_type": "code",
   "execution_count": 2,
   "id": "bacterial-occasion",
   "metadata": {},
   "outputs": [
    {
     "data": {
      "text/plain": [
       "true"
      ]
     },
     "execution_count": 2,
     "metadata": {},
     "output_type": "execute_result"
    }
   ],
   "source": [
    "Test.case01 |> Util.Input |> Problem.solve |> Test.match(Test.case01)"
   ]
  },
  {
   "cell_type": "code",
   "execution_count": null,
   "id": "internal-reset",
   "metadata": {},
   "outputs": [],
   "source": []
  }
 ],
 "metadata": {
  "kernelspec": {
   "display_name": "Julia 1.5.3",
   "language": "julia",
   "name": "julia-1.5"
  },
  "language_info": {
   "file_extension": ".jl",
   "mimetype": "application/julia",
   "name": "julia",
   "version": "1.5.3"
  }
 },
 "nbformat": 4,
 "nbformat_minor": 5
}

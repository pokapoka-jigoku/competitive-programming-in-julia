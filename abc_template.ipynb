{
 "cells": [
  {
   "cell_type": "code",
   "execution_count": 4,
   "id": "sunrise-analysis",
   "metadata": {},
   "outputs": [
    {
     "name": "stderr",
     "output_type": "stream",
     "text": [
      "WARNING: replacing module Test.\n",
      "WARNING: replacing module Util.\n",
      "WARNING: replacing module Problem.\n"
     ]
    },
    {
     "data": {
      "text/plain": [
       "Main.Problem"
      ]
     },
     "execution_count": 4,
     "metadata": {},
     "output_type": "execute_result"
    }
   ],
   "source": [
    "module Util\n",
    "struct Input\n",
    "    data::Union{Vector{AbstractString}, Nothing}\n",
    "end\n",
    "\n",
    "Input() = Input(nothing)\n",
    "Input(string::AbstractString) = Input(split(string, \"\\n\"))\n",
    "    \n",
    "function Base.readline(input::Input)\n",
    "    if input.data === nothing\n",
    "        Base.readline()\n",
    "    else\n",
    "        popfirst!(input.data)\n",
    "    end\n",
    "end\n",
    "\n",
    "end\n",
    "\n",
    "module Problem\n",
    "import ..Util\n",
    "function solve(input::Util.Input)\n",
    "    xs = readline(input) |> split .|> x -> parse(Int, x)\n",
    "    sum(xs)\n",
    "end\n",
    "end\n",
    "\n",
    "module Test\n",
    "import ..Util\n",
    "struct Case\n",
    "    input::AbstractString\n",
    "    output\n",
    "end\n",
    "\n",
    "match(case::Case, value) = (case.output == value)\n",
    "match(case::Case) = value -> match(case, value)\n",
    "\n",
    "compare(case::Case, value) = (case.output, value)\n",
    "compare(case::Case) = value -> compare(case, value)\n",
    "\n",
    "Input(case::Test.Case) = Input(case.input)\n",
    "\n",
    "\n",
    "case01 = Case(\"12 12 14\", 38)\n",
    "case02 = Case(\"1 2 3\", 6)\n",
    "end"
   ]
  },
  {
   "cell_type": "code",
   "execution_count": 8,
   "id": "divine-response",
   "metadata": {},
   "outputs": [
    {
     "name": "stdout",
     "output_type": "stream",
     "text": [
      "(38, 38)\n",
      "(6, 6)\n"
     ]
    }
   ],
   "source": [
    "for case in [Test.case01, Test.case02]\n",
    "    case |> c -> c |> Util.Input |> Problem.solve |> Test.compare(c) |> println\n",
    "end"
   ]
  },
  {
   "cell_type": "code",
   "execution_count": null,
   "id": "adequate-farmer",
   "metadata": {},
   "outputs": [],
   "source": []
  }
 ],
 "metadata": {
  "kernelspec": {
   "display_name": "Julia 1.5.3",
   "language": "julia",
   "name": "julia-1.5"
  },
  "language_info": {
   "file_extension": ".jl",
   "mimetype": "application/julia",
   "name": "julia",
   "version": "1.5.3"
  }
 },
 "nbformat": 4,
 "nbformat_minor": 5
}

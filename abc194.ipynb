{
 "cells": [
  {
   "cell_type": "code",
   "execution_count": 7,
   "id": "liked-sister",
   "metadata": {},
   "outputs": [
    {
     "name": "stderr",
     "output_type": "stream",
     "text": [
      "WARNING: replacing module A.\n"
     ]
    },
    {
     "name": "stdin",
     "output_type": "stream",
     "text": [
      "stdin>  0 0\n"
     ]
    },
    {
     "name": "stdout",
     "output_type": "stream",
     "text": [
      "4\n"
     ]
    }
   ],
   "source": [
    "module A\n",
    "function solve()\n",
    "    a, b = readline() |> split .|> x -> parse(Int, x)\n",
    "    固形 = a + b\n",
    "    乳脂肪 = b\n",
    "    if 固形 >= 15 && 乳脂肪 >= 8\n",
    "        return 1\n",
    "    elseif 固形 >= 10 && 乳脂肪 >= 3\n",
    "        return 2\n",
    "    elseif 固形 >= 3\n",
    "        return 3\n",
    "    else\n",
    "        return 4\n",
    "    end\n",
    "end\n",
    "end\n",
    "\n",
    "A.solve() |> println"
   ]
  },
  {
   "cell_type": "code",
   "execution_count": 9,
   "id": "subtle-scheduling",
   "metadata": {},
   "outputs": [
    {
     "name": "stderr",
     "output_type": "stream",
     "text": [
      "WARNING: replacing module B.\n"
     ]
    },
    {
     "name": "stdin",
     "output_type": "stream",
     "text": [
      "stdin>  3\n",
      "stdin>  11 7\n",
      "stdin>  3 2\n",
      "stdin>  6 7\n"
     ]
    },
    {
     "name": "stdout",
     "output_type": "stream",
     "text": [
      "5\n"
     ]
    }
   ],
   "source": [
    "module B\n",
    "function solve()\n",
    "    n = readline() |> x -> parse(Int, x)\n",
    "    xs = [readline() |> split .|> x -> parse(Int, x) for i in 1:n]\n",
    "    minA, iA = findmin([xs[i][1] for i in 1:length(xs)])\n",
    "    minB, iB = findmin([xs[i][2] for i in 1:length(xs) if i != iA])\n",
    "\n",
    "    minB2, iB2 = findmin([xs[i][2] for i in 1:length(xs)])\n",
    "    minA2, x = findmin([xs[i][1] for i in 1:length(xs) if i != iB2])\n",
    "    T1, x = findmax([minA, minB])\n",
    "    T2, x = findmax([minA2, minB2])\n",
    "    sT, x = findmin([a + b for (a, b) in xs])\n",
    "    findmin([T1, T2, sT])[1]\n",
    "end\n",
    "end\n",
    "B.solve() |> println"
   ]
  },
  {
   "cell_type": "code",
   "execution_count": 14,
   "id": "viral-condition",
   "metadata": {},
   "outputs": [
    {
     "name": "stderr",
     "output_type": "stream",
     "text": [
      "WARNING: replacing module C.\n"
     ]
    },
    {
     "name": "stdin",
     "output_type": "stream",
     "text": [
      "stdin>  5\n",
      "stdin>  -5 8 9 -4 -3\n"
     ]
    },
    {
     "name": "stdout",
     "output_type": "stream",
     "text": [
      "950\n"
     ]
    }
   ],
   "source": [
    "module C\n",
    "function solve()\n",
    "    n = readline() |> x -> parse(Int, x)\n",
    "    xs = readline() |> split .|> x -> parse(Int, x)\n",
    "    @assert length(xs) == n\n",
    "    S2 = sum(xs .* xs)\n",
    "    S = sum(xs)\n",
    "    return n*S2 - S^2\n",
    "end\n",
    "end\n",
    "C.solve() |> println"
   ]
  },
  {
   "cell_type": "code",
   "execution_count": 18,
   "id": "outdoor-farmer",
   "metadata": {},
   "outputs": [
    {
     "name": "stderr",
     "output_type": "stream",
     "text": [
      "WARNING: replacing module D.\n"
     ]
    },
    {
     "name": "stdin",
     "output_type": "stream",
     "text": [
      "stdin>  2\n"
     ]
    },
    {
     "name": "stdout",
     "output_type": "stream",
     "text": [
      "1.9999999999999998\n"
     ]
    }
   ],
   "source": [
    "module D\n",
    "function solve()\n",
    "    n = readline() |> x -> parse(Int, x)\n",
    "    result = 0\n",
    "    for k in 1:(n-1)\n",
    "        for m in 1:1000000\n",
    "            result += m * ((n-k) / n) * (k / n)^(m-1)\n",
    "        end\n",
    "    end\n",
    "    result\n",
    "end\n",
    "end\n",
    "D.solve() |> println"
   ]
  },
  {
   "cell_type": "code",
   "execution_count": 28,
   "id": "round-encyclopedia",
   "metadata": {},
   "outputs": [
    {
     "name": "stderr",
     "output_type": "stream",
     "text": [
      "WARNING: replacing module E.\n"
     ]
    },
    {
     "name": "stdin",
     "output_type": "stream",
     "text": [
      "stdin>  7 3\n",
      "stdin>  0 0 1 2 0 1 0\n"
     ]
    },
    {
     "name": "stdout",
     "output_type": "stream",
     "text": [
      "2\n"
     ]
    }
   ],
   "source": [
    "module E\n",
    "function solve()\n",
    "    N, M = readline() |> split .|> x -> parse(Int, x)\n",
    "    As = readline() |> split .|> x -> parse(Int, x)\n",
    "    \n",
    "    function mex(xs)\n",
    "        min = findmin(xs)[1]\n",
    "        max = findmax(xs)[1]\n",
    "        findmin(setdiff(Set(0:(max+1)), Set(xs)) |> collect)[1]\n",
    "    end\n",
    "        \n",
    "    mexes = [mex(As[(i+1):(i+M)]) for i in 0:(N-M)]\n",
    "    findmin(mexes)[1]\n",
    "end\n",
    "end\n",
    "E.solve() |> println"
   ]
  },
  {
   "cell_type": "code",
   "execution_count": 29,
   "id": "laughing-prediction",
   "metadata": {},
   "outputs": [
    {
     "data": {
      "text/plain": [
       "Set{Int64} with 3 elements:\n",
       "  0\n",
       "  2\n",
       "  1"
      ]
     },
     "execution_count": 29,
     "metadata": {},
     "output_type": "execute_result"
    }
   ],
   "source": [
    "module E2\n",
    "function solve()\n",
    "    N, M = readline() |> split .|> x -> parse(Int, x)\n",
    "    As = readline() |> split .|> x -> parse(Int, x)\n",
    "    data = zeros(Int, N)\n",
    "    \n",
    "    for x in As[1:M]\n",
    "        data[x + 1] = 1\n",
    "        \n",
    "    min = findfirst(x->x==1, data)\n",
    "        \n",
    "    for i in 1:(N-M)\n",
    "            \n",
    "    \n",
    "    function mex(xs)\n",
    "        for i, x in enumerate(xs):\n",
    "            if x == 1\n",
    "                return i - 1\n",
    "    \n",
    "    function mex(xs)\n",
    "        min = findmin(xs)[1]\n",
    "        max = findmax(xs)[1]\n",
    "        findmin(setdiff(Set(0:(max+1)), Set(xs)) |> collect)[1]\n",
    "    end\n",
    "        \n",
    "    mexes = [mex(As[(i+1):(i+M)]) for i in 0:(N-M)]\n",
    "    findmin(mexes)[1]\n",
    "end\n",
    "end\n",
    "E2.solve() |> println"
   ]
  },
  {
   "cell_type": "code",
   "execution_count": null,
   "id": "closing-planet",
   "metadata": {},
   "outputs": [],
   "source": [
    "module Test\n",
    "struct Case\n",
    "    input::AbstractString\n",
    "    output\n",
    "end\n",
    "\n",
    "match(case::Case, value) = (case.output == value)\n",
    "match(case::Case) = value -> match(case, value)\n",
    "\n",
    "case01 = Case(\"12 12 14\", 38)\n",
    "case02 = Case(\"1 2 3\", 6)\n",
    "end\n",
    "\n",
    "module Util\n",
    "import ..Test\n",
    "\n",
    "struct Input\n",
    "    data::Union{Vector{AbstractString}, Nothing}\n",
    "end\n",
    "\n",
    "Input() = Input(nothing)\n",
    "Input(string::AbstractString) = Input(split(string, \"\\n\"))\n",
    "Input(case::Test.Case) = Input(case.input)\n",
    "    \n",
    "function Base.readline(input::Input)\n",
    "    if input.data === nothing\n",
    "        Base.readline()\n",
    "    else\n",
    "        popfirst!(input.data)\n",
    "    end\n",
    "end\n",
    "\n",
    "end\n",
    "\n",
    "module Problem\n",
    "import ..Util\n",
    "function solve(input::Util.Input)\n",
    "    xs = readline(input) |> split .|> x -> parse(Int, x)\n",
    "    sum(xs)\n",
    "end\n",
    "end\n",
    "\n"
   ]
  },
  {
   "cell_type": "code",
   "execution_count": 26,
   "id": "broken-jungle",
   "metadata": {},
   "outputs": [
    {
     "data": {
      "text/plain": [
       "3-element Array{Int64,1}:\n",
       " 12\n",
       " 12\n",
       " 14"
      ]
     },
     "execution_count": 26,
     "metadata": {},
     "output_type": "execute_result"
    }
   ],
   "source": [
    "Test.case01 |> Util.Input |> Problem.solve"
   ]
  },
  {
   "cell_type": "code",
   "execution_count": null,
   "id": "blessed-collect",
   "metadata": {},
   "outputs": [],
   "source": []
  }
 ],
 "metadata": {
  "kernelspec": {
   "display_name": "Julia 1.5.3",
   "language": "julia",
   "name": "julia-1.5"
  },
  "language_info": {
   "file_extension": ".jl",
   "mimetype": "application/julia",
   "name": "julia",
   "version": "1.5.3"
  }
 },
 "nbformat": 4,
 "nbformat_minor": 5
}

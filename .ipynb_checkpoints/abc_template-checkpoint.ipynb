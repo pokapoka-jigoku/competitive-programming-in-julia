{
 "cells": [
  {
   "cell_type": "code",
   "execution_count": 1,
   "id": "chief-freedom",
   "metadata": {},
   "outputs": [
    {
     "data": {
      "text/plain": [
       "Main.Test"
      ]
     },
     "execution_count": 1,
     "metadata": {},
     "output_type": "execute_result"
    }
   ],
   "source": [
    "module Util\n",
    "struct Input\n",
    "    data::Union{Vector{AbstractString}, Nothing}\n",
    "end\n",
    "\n",
    "Input() = Input(nothing)\n",
    "Input(string::AbstractString) = Input(split(string, \"\\n\"))\n",
    "    \n",
    "function Base.readline(input::Input)\n",
    "    if input.data === nothing\n",
    "        Base.readline()\n",
    "    else\n",
    "        popfirst!(input.data)\n",
    "    end\n",
    "end\n",
    "\n",
    "end\n",
    "\n",
    "module Test\n",
    "import ..Util\n",
    "struct Case\n",
    "    input::AbstractString\n",
    "    output\n",
    "end\n",
    "\n",
    "match(case::Case, value) = (case.output == value)\n",
    "match(case::Case) = value -> match(case, value)\n",
    "\n",
    "compare(case::Case, value) = (case.output, value)\n",
    "compare(case::Case) = value -> compare(case, value)\n",
    "\n",
    "Util.Input(case::Test.Case) = Input(case.input)\n",
    "\n",
    "\n",
    "case01 = Case(\"12 12 14\", 38)\n",
    "case02 = Case(\"1 2 3\", 6)\n",
    "end\n",
    "\n",
    "module Problem\n",
    "import ..Util\n",
    "function solve(input::Util.Input)\n",
    "    xs = readline(input) |> split .|> x -> parse(Int, x)\n",
    "    sum(xs)\n",
    "end\n",
    "end\n"
   ]
  },
  {
   "cell_type": "code",
   "execution_count": 2,
   "id": "incorrect-salon",
   "metadata": {},
   "outputs": [
    {
     "ename": "LoadError",
     "evalue": "\u001b[91mUndefVarError: Input not defined\u001b[39m",
     "output_type": "error",
     "traceback": [
      "\u001b[91mUndefVarError: Input not defined\u001b[39m",
      "",
      "Stacktrace:",
      " [1] Main.Util.Input(::Main.Test.Case) at ./In[1]:40",
      " [2] |> at ./operators.jl:834 [inlined]",
      " [3] (::var\"#1#2\")(::Main.Test.Case) at ./In[2]:2",
      " [4] |>(::Main.Test.Case, ::var\"#1#2\") at ./operators.jl:834",
      " [5] top-level scope at In[2]:2",
      " [6] include_string(::Function, ::Module, ::String, ::String) at ./loading.jl:1091"
     ]
    }
   ],
   "source": [
    "for case in [Test.case01, Test.case02]\n",
    "    case |> c -> c |> Util.Input |> Problem.solve |> Test.compare(c) |> println\n",
    "end"
   ]
  },
  {
   "cell_type": "code",
   "execution_count": null,
   "id": "fifty-climate",
   "metadata": {},
   "outputs": [],
   "source": []
  }
 ],
 "metadata": {
  "kernelspec": {
   "display_name": "Julia 1.5.3",
   "language": "julia",
   "name": "julia-1.5"
  },
  "language_info": {
   "file_extension": ".jl",
   "mimetype": "application/julia",
   "name": "julia",
   "version": "1.5.3"
  }
 },
 "nbformat": 4,
 "nbformat_minor": 5
}
